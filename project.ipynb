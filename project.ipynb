{
 "cells": [
  {
   "cell_type": "markdown",
   "id": "ad9a2f94-dc9a-4718-9ebe-2bd5bb3d2b30",
   "metadata": {},
   "source": [
    "# KNOWLEDGE BASE APPROACH"
   ]
  },
  {
   "cell_type": "code",
   "execution_count": 1,
   "id": "204b33d2-38fd-4854-979e-b97381859601",
   "metadata": {},
   "outputs": [],
   "source": [
    "import gym\n",
    "import time\n",
    "import matplotlib.pyplot as plt\n",
    "from pyswip import Prolog\n",
    "import IPython.display as display\n",
    "from project_utils import *\n",
    "\n",
    "MONSTER = ['giant', 'ettin', 'titan', 'minotaur', 'naga', 'lich', 'ogre', 'dragon', 'troll', 'Olog-hai'] #possible monsters in this environment"
   ]
  },
  {
   "cell_type": "code",
   "execution_count": 2,
   "id": "f2701c4e-111d-4d2c-895f-1112e7f7b13f",
   "metadata": {},
   "outputs": [],
   "source": [
    "des_file = '''\n",
    "MAZE: \"mylevel\", ' '\n",
    "FLAGS:hardfloor,premapped\n",
    "MESSAGE: \"Welcome to MiniHack!\"\n",
    "INIT_MAP: solidfill,' '\n",
    "GEOMETRY:center,center\n",
    "MAP\n",
    "@..........\n",
    "...........\n",
    "...........\n",
    "...........\n",
    "...........\n",
    "...........\n",
    "...........\n",
    "...........\n",
    ">..........\n",
    "ENDMAP\n",
    "$place = { (10,8),(0,8),(10,0) }\n",
    "SHUFFLE: $place\n",
    "REGION:(0,0,11,9),lit,\"ordinary\"\n",
    "REPLACE_TERRAIN:(0,0,11,9), '.', 'C', 33%\n",
    "REPLACE_TERRAIN:(0,0,11,9), '.', 'T', 25%\n",
    "TERRAIN:randline (0,9),(11,0), 5, '.'\n",
    "TERRAIN:randline (0,0),(11,9), 5, '.'\n",
    "BRANCH:(0,0,0,0),(1,1,1,1)\n",
    "STAIR:$place[2],down\n",
    "'''\n",
    "\n",
    "ENV = gym.make(\"MiniHack-Navigation-Custom-v0\",des_file=\"dat/square_trees.des\",\n",
    "              observation_keys=('screen_descriptions','message','pixel','blstats'))"
   ]
  },
  {
   "cell_type": "markdown",
   "id": "d399c746-747e-4fc7-9550-e69efa57a09a",
   "metadata": {},
   "source": [
    "## Basic Movement\n",
    "For the first milestone of the project, we used the \"Mapped\" environment of Hide n' Seek-that is, a game mode in which the map is fully known since the beginning, therefore not needing exploration.\n",
    "The first thing we did, after setting up the environment and finding out a way to formulate and update perceptions from the game into the knowledge base, was to design and test the basic movement towards the goal. Since the project's bigger picture would have included a heuristic pathfinding solution, we kept the reasoning \"step-by-step\" in the Knowledge Base version, without using lists to build a path before even moving. To avoid the occurrence of loops (which manifested themselves in cases where the optimal path was blocked by trees or/and walls, and the agent would walk back and forth over the same two cells), we \"discouraged\" him from walking over already-walked cells. Here's a test of the agent's movement optimality in a fully mapped environment, with no monsters."
   ]
  },
  {
   "cell_type": "code",
   "execution_count": 3,
   "id": "97e357fe-d597-459b-876f-b339e4208341",
   "metadata": {},
   "outputs": [
    {
     "ename": "SyntaxError",
     "evalue": "positional argument follows keyword argument (3642531671.py, line 4)",
     "output_type": "error",
     "traceback": [
      "\u001b[0;36m  Cell \u001b[0;32mIn[3], line 4\u001b[0;36m\u001b[0m\n\u001b[0;31m    evaluate(num_ep = 1, MAX_STEPS, PATH, MONSTER, ENV, \"slow\")\u001b[0m\n\u001b[0m                                                              ^\u001b[0m\n\u001b[0;31mSyntaxError\u001b[0m\u001b[0;31m:\u001b[0m positional argument follows keyword argument\n"
     ]
    }
   ],
   "source": [
    "MAX_STEPS = 30\n",
    "PATH = 'project_kb.pl'\n",
    "\n",
    "evaluate(num_ep = 1, max_steps = MAX_STEPS, kb_path = PATH, monsters = MONSTER, env = ENV, speed = \"slow\")"
   ]
  },
  {
   "cell_type": "code",
   "execution_count": null,
   "id": "f4bbe54c-fd02-4036-93b9-42941a0431f0",
   "metadata": {},
   "outputs": [],
   "source": [
    "# Introducing monsters\n"
   ]
  },
  {
   "cell_type": "code",
   "execution_count": null,
   "id": "0c321903-7547-4093-9409-1f5a5959e9e1",
   "metadata": {},
   "outputs": [],
   "source": []
  }
 ],
 "metadata": {
  "kernelspec": {
   "display_name": "Python 3 (ipykernel)",
   "language": "python",
   "name": "python3"
  },
  "language_info": {
   "codemirror_mode": {
    "name": "ipython",
    "version": 3
   },
   "file_extension": ".py",
   "mimetype": "text/x-python",
   "name": "python",
   "nbconvert_exporter": "python",
   "pygments_lexer": "ipython3",
   "version": "3.10.12"
  }
 },
 "nbformat": 4,
 "nbformat_minor": 5
}
