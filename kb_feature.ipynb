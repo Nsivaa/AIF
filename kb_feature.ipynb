{
 "cells": [
  {
   "cell_type": "markdown",
   "id": "cd1e76b4",
   "metadata": {},
   "source": [
    "# INTRODUCTION"
   ]
  },
  {
   "cell_type": "markdown",
   "id": "a24e9763",
   "metadata": {},
   "source": [
    "## The project\n",
    "\n",
    "Our project focuses on the Minihack environment called HideNSeek. This environment consists of a labyrinth with trees and clouds. The agent's goal is to reach the stairs without being killed by the monster. There are different versions of this environment, but our project primarily concentrates on the Mapped version, where the environment is fully observable, and the standard version of HideNSeek, where the environment is partially observable and revealed to the agent as it explores the map. Our project is structured around two distinct approaches: a knowledge base and the A* pathfinding algorithm. Initially, both techniques were explored in parallel. For both, we started with a simplified version of the problem, beginning with a fully observable environment. Initially, the map only contained trees, and later clouds and monsters were included.\n",
    "\n",
    "Subsequently, we integrated the two strategies in different ways, which will be detailed later. Finally, we transitioned to the partially observable version of the problem, where we once again implemented a strategy that combined both techniques.\n",
    "\n",
    "## Monsters\n",
    "\n",
    "Different monsters in Nethack have different characteristics:\n",
    "- Some monsters are slower than the agent, thus they occasionally skip turns;\n",
    "- Many of the monsters have (powerful) ranged attacks;\n",
    "- Some monsters have an ability called *infravision*, which means that they can locate the agent no matter the distance or obstacles;\n",
    "\n",
    "Even though the agent has a leather armor, enabling him to endure hits, many of the monsters in the environment are too powerful to confront with an empty inventory.\n",
    "As a consequence, we decided to focus on a subset of them, considering only two monsters: the Naga and the Giant Humanoid. The 'Hide and Seek' environment's DES file has been appropriately modified to include only these two creatures.\n",
    "Both the Naga and the Giant can be lethal both up close and from a distance, but they have their respective strengths and weaknesses. The fact that these two monsters are quite different from each other, allowed us to test our approach effectively on a manageable scale. \n",
    "The Naga is a serpent-like creature known for its agility and speed. It is a very fast monster, and its long-range attack is more potent, making it a significant threat when engaged from a distance. \n",
    "The Giant is a large humanoid creature, known for its brute strength and durability. It is slower but inflicts substantial damage when in close proximity. This makes it particularly dangerous if the player gets too close. \n",
    "\n",
    "\n",
    "## Stats\n",
    "The empirical evaluation is ran over 500 episodes, with a maximum number of steps of 30, using the default Minihack Reward Manager, which yields a positive score of 1 for a successful episode, and 0 otherwise. We acquired statistics over different monster pools:\n",
    "- The *full* HideNSeek pool (**Giant, Naga, Titan, Dragon, Ettin, Minotaur, Lich, Ogre, Troll**);\n",
    "- **Giant** only;\n",
    "- **Naga** only.\n",
    "\n",
    "We plotted the number of successful episodes (win/losses), the number of deaths caused by each monster (for the full pool), and the execution time. "
   ]
  },
  {
   "cell_type": "markdown",
   "id": "5bb1dd96",
   "metadata": {},
   "source": [
    "# THE FULLY OBSERVABLE ENVIRONMENT"
   ]
  },
  {
   "cell_type": "markdown",
   "id": "ad9a2f94-dc9a-4718-9ebe-2bd5bb3d2b30",
   "metadata": {},
   "source": [
    "# KNOWLEDGE BASE APPROACH"
   ]
  },
  {
   "cell_type": "code",
   "execution_count": null,
   "id": "204b33d2-38fd-4854-979e-b97381859601",
   "metadata": {},
   "outputs": [],
   "source": [
    "import gym\n",
    "import time\n",
    "import matplotlib.pyplot as plt\n",
    "from pyswip import Prolog\n",
    "import IPython.display as display\n",
    "from project_utils import *\n"
   ]
  },
  {
   "cell_type": "markdown",
   "id": "d399c746-747e-4fc7-9550-e69efa57a09a",
   "metadata": {},
   "source": [
    "## Basic Movement\n",
    "\n",
    "The first thing we did, after setting up the environment and finding out a way to formulate and update perceptions from the game into the knowledge base, was to design and test the basic movement towards the goal. Here's a test of the agent's movement in a fully mapped environment, with just trees."
   ]
  },
  {
   "cell_type": "code",
   "execution_count": null,
   "id": "97e357fe-d597-459b-876f-b339e4208341",
   "metadata": {},
   "outputs": [],
   "source": [
    "\n",
    "ENV = gym.make(\"MiniHack-Navigation-Custom-v0\",des_file=\"dat/kb_movement.des\",\n",
    "              observation_keys=('screen_descriptions','message','pixel','blstats'))\n",
    "\n",
    "evaluate(num_ep = 1, max_steps = 30, kb_path = 'kbs/looping_kb.pl', env = ENV, speed = \"slow\", show = True)"
   ]
  },
  {
   "cell_type": "markdown",
   "id": "81a99a17-2199-4290-91b5-b3959d01c3b3",
   "metadata": {},
   "source": [
    "## Loops\n",
    "Since the project's bigger picture would have included a heuristic pathfinding solution, we kept the reasoning \"step-by-step\" in the Knowledge Base version, without using lists to build a path before moving. For this reason, in this version of the system, loops might occur: it can be the case that the optimal path is blocked by trees or/and walls, and the agent walks back and forth over the same two cells even if these moves lead to a dead end. In the next map we can see an example of this behaviour."
   ]
  },
  {
   "cell_type": "code",
   "execution_count": null,
   "id": "120b99b1-172e-4c37-af31-ae8d31944e21",
   "metadata": {},
   "outputs": [],
   "source": [
    "ENV = gym.make(\"MiniHack-Navigation-Custom-v0\",des_file=\"dat/kb_loop.des\",\n",
    "              observation_keys=('screen_descriptions','message','pixel','blstats'))\n",
    "evaluate(num_ep = 1, max_steps = 6, kb_path = 'kbs/looping_kb.pl', env = ENV, speed = \"slow\", show = True)"
   ]
  },
  {
   "cell_type": "markdown",
   "id": "02422c73-6431-4b05-a291-018eb96a8459",
   "metadata": {},
   "source": [
    "## Loop fix\n",
    "To avoid the occurrence of loops, we \"discouraged\" the agent from walking over already-walked cells. "
   ]
  },
  {
   "cell_type": "code",
   "execution_count": null,
   "id": "dac18290-4002-4bd0-a556-888f16bc6f19",
   "metadata": {},
   "outputs": [],
   "source": [
    "ENV = gym.make(\"MiniHack-Navigation-Custom-v0\",des_file=\"dat/kb_loop.des\",\n",
    "              observation_keys=('screen_descriptions','message','pixel','blstats'))\n",
    "evaluate(num_ep = 1, max_steps = 30, kb_path = 'kbs/project_kb.pl', env = ENV, speed = \"slow\", show = True)"
   ]
  },
  {
   "cell_type": "markdown",
   "id": "22b828a5-379b-4749-94d7-413f3d5ee8be",
   "metadata": {},
   "source": [
    "## Introducing monsters\n",
    "Now it's time to bring the monsters in.\n",
    "In this version, monsters are not considered by the agent at all: he just rushes towards the stairs, ignoring them. This didn't lead to horrible results though, because being exposed for a long time or avoiding close contact with the enemy can be counterproductive.\n",
    "Though not catastrophic, this strategy isn't enough, especially against the **Naga**. She rocks a powerful fire ranged attack, whilst having the same speed as the agent. Since enemies can attack us at range from basically *any* distance, performing intricated movement strategies would both put us at risk of exceeding the maximum number of steps and give the monster more attempts to hit us at range. "
   ]
  },
  {
   "cell_type": "code",
   "execution_count": null,
   "id": "de8c3c64",
   "metadata": {},
   "outputs": [],
   "source": [
    "ENV = gym.make(\"MiniHack-HideNSeek-Mapped-v0\",\n",
    "              observation_keys=('screen_descriptions','message','pixel','blstats'))\n",
    "evaluate(num_ep = 3, max_steps = 30, kb_path = 'kbs/looping_kb.pl', env = ENV, speed = \"slow\", show = True)"
   ]
  },
  {
   "cell_type": "markdown",
   "id": "628e0c5b",
   "metadata": {},
   "source": [
    "## Evaluation \n",
    "Now we look at some evaluation, with different monster pools:"
   ]
  },
  {
   "cell_type": "code",
   "execution_count": null,
   "id": "347202fe",
   "metadata": {},
   "outputs": [],
   "source": [
    "ENV = gym.make(\"MiniHack-HideNSeek-Mapped-v0\",\n",
    "              observation_keys=('screen_descriptions','message','pixel','blstats'))\n",
    "evaluate(num_ep = 500, max_steps = 30, kb_path = 'kbs/looping_kb.pl', env = ENV, speed = \"fast\", show = False)\n",
    "\n",
    "#ADD GRAPH\n",
    "#REMOVE IMPOSSIBLE TO PERFORM ANY ACTION"
   ]
  },
  {
   "cell_type": "code",
   "execution_count": null,
   "id": "5fa64d0d",
   "metadata": {},
   "outputs": [],
   "source": [
    "ENV = gym.make(\"MiniHack-Navigation-Custom-v0\", des_file=\"dat/fully_observable_N.des\",\n",
    "              observation_keys=('screen_descriptions','message','pixel','blstats'))\n",
    "evaluate(num_ep = 500, max_steps = 30, kb_path = 'kbs/looping_kb.pl', env = ENV, speed = \"fast\", show = False)\n",
    "\n",
    "#ADD GRAPH\n",
    "#REMOVE IMPOSSIBLE TO PERFORM ANY ACTION"
   ]
  },
  {
   "cell_type": "code",
   "execution_count": null,
   "id": "2b65f68a",
   "metadata": {},
   "outputs": [],
   "source": [
    "ENV = gym.make(\"MiniHack-Navigation-Custom-v0\", des_file=\"dat/fully_observable_H.des\",\n",
    "              observation_keys=('screen_descriptions','message','pixel','blstats'))\n",
    "evaluate(num_ep = 500, max_steps = 30, kb_path = 'kbs/looping_kb.pl', env = ENV, speed = \"fast\", show = False)\n",
    "\n",
    "#ADD GRAPH\n",
    "#REMOVE IMPOSSIBLE TO PERFORM ANY ACTION"
   ]
  },
  {
   "cell_type": "markdown",
   "id": "fc11f482",
   "metadata": {},
   "source": [
    "## Dealing with monsters\n",
    " One useful thing, though, is that ranged attacks seem to have a *lower* chance to connect if the line of fire is not exactly *perpendicular* (or *diagonal*). Thus, we made the agent less prone to walk in those cells, as well as the cells strictly adjacent to the monster. Also, the agent keeps tracks of the last enemy position, when it disappears into clouds.\n"
   ]
  },
  {
   "cell_type": "code",
   "execution_count": null,
   "id": "d7918553",
   "metadata": {},
   "outputs": [],
   "source": [
    "ENV = gym.make(\"MiniHack-Navigation-Custom-v0\", des_file=\"dat/fully_observable_NH.des\",\n",
    "              observation_keys=('screen_descriptions','message','pixel','blstats'))\n",
    "evaluate(num_ep = 3, max_steps = 30, kb_path = 'kbs/project_kb.pl', env = ENV, speed = \"slow\", show = True)"
   ]
  },
  {
   "cell_type": "markdown",
   "id": "a4f014c9",
   "metadata": {},
   "source": [
    "## Evaluation II\n",
    "Again, some evaluation on the different monster pools. The Knowledge Base tweaks brought an improvement in all of the three monster pools performance."
   ]
  },
  {
   "cell_type": "code",
   "execution_count": null,
   "id": "bb7e079d",
   "metadata": {},
   "outputs": [],
   "source": [
    "ENV = gym.make(\"MiniHack-HideNSeek-Mapped-v0\",\n",
    "              observation_keys=('screen_descriptions','message','pixel','blstats'))\n",
    "evaluate(num_ep = 500, max_steps = 30, kb_path = 'kbs/project_kb.pl', env = ENV, speed = \"fast\", show = False)\n",
    "\n",
    "#ADD GRAPH\n"
   ]
  },
  {
   "cell_type": "code",
   "execution_count": null,
   "id": "762fcdb6",
   "metadata": {},
   "outputs": [],
   "source": [
    "ENV = gym.make(\"MiniHack-Navigation-Custom-v0\", des_file=\"dat/fully_observable_N.des\",\n",
    "              observation_keys=('screen_descriptions','message','pixel','blstats'))\n",
    "evaluate(num_ep = 500, max_steps = 30, kb_path = 'kbs/project_kb.pl', env = ENV, speed = \"fast\", show = False)\n",
    "\n",
    "#ADD GRAPH\n",
    "#REMOVE IMPOSSIBLE TO PERFORM ANY ACTION"
   ]
  },
  {
   "cell_type": "code",
   "execution_count": null,
   "id": "87b16efc",
   "metadata": {},
   "outputs": [],
   "source": [
    "ENV = gym.make(\"MiniHack-Navigation-Custom-v0\", des_file=\"dat/fully_observable_H.des\",\n",
    "              observation_keys=('screen_descriptions','message','pixel','blstats'))\n",
    "evaluate(num_ep = 500, max_steps = 30, kb_path = 'kbs/project_kb.pl', env = ENV, speed = \"fast\", show = False)\n",
    "\n",
    "#ADD GRAPH\n",
    "#REMOVE IMPOSSIBLE TO PERFORM ANY ACTION"
   ]
  }
 ],
 "metadata": {
  "kernelspec": {
   "display_name": "Python 3 (ipykernel)",
   "language": "python",
   "name": "python3"
  },
  "language_info": {
   "codemirror_mode": {
    "name": "ipython",
    "version": 3
   },
   "file_extension": ".py",
   "mimetype": "text/x-python",
   "name": "python",
   "nbconvert_exporter": "python",
   "pygments_lexer": "ipython3",
   "version": "3.10.12"
  }
 },
 "nbformat": 4,
 "nbformat_minor": 5
}
