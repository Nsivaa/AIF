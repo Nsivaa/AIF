{
 "cells": [
  {
   "cell_type": "markdown",
   "metadata": {},
   "source": [
    "# Heuristic Search "
   ]
  },
  {
   "cell_type": "code",
   "execution_count": 1,
   "metadata": {},
   "outputs": [],
   "source": [
    "import gym\n",
    "import minihack\n",
    "import numpy as np\n",
    "import matplotlib.pyplot as plt\n",
    "\n",
    "from map_utils import *\n",
    "from search import *\n",
    "from graphics_utils import *"
   ]
  },
  {
   "cell_type": "code",
   "execution_count": 2,
   "metadata": {},
   "outputs": [],
   "source": [
    "def solve_and_plt(env: gym.Env, heuristic: callable, precision: str, plt_width: Tuple[int, int], plt_height: Tuple[int, int], dynamic: bool = False, suppress = False):\n",
    "    state = env.reset()\n",
    "    game_map = state[\"chars\"]\n",
    "    color_map = state[\"colors\"]\n",
    "    pixel_map = state[\"pixel\"]\n",
    "\n",
    "    start = get_player_location(game_map)\n",
    "    target = get_target_location(game_map)\n",
    "\n",
    "    if dynamic:\n",
    "        dynamic_path_finding(game_map, color_map, start, target, env, heuristic, precision=precision, graphics=True, pixel_map=pixel_map, suppress=suppress)\n",
    "    else:\n",
    "        path = a_star(game_map, color_map, start, target, heuristic, precision=precision)\n",
    "        actions = actions_from_path(start, path[1:])\n",
    "        render_actions(actions, env, pixel_map, plt_width, plt_height)"
   ]
  },
  {
   "cell_type": "markdown",
   "metadata": {
    "jp-MarkdownHeadingCollapsed": true
   },
   "source": [
    "## 1. The Fully Observable Environment"
   ]
  },
  {
   "cell_type": "markdown",
   "metadata": {},
   "source": [
    "The idea was to approach the problem in an increasing level of difficolty fashion, first working on some simpler heuristics and cost functions, up to reaching a more sofisticated level of complexity. \n",
    "\n",
    "We started by comparing the Euclidean Distance and the Chebyshev Distance, in order to get a better grasp on what the problem could have been approached with, and after a short analysis, we've found out that the Chebyshev looked exactly like what we were searching for, since it guaranteed 8 normal vectors that precisely represented what the actions of the agent are supposed to be."
   ]
  },
  {
   "cell_type": "code",
   "execution_count": null,
   "metadata": {},
   "outputs": [],
   "source": [
    "env = gym.make(\"MiniHack-Navigation-Custom-v0\", observation_keys=(\"chars\", \"pixel\", \"colors\"), des_file = \"dat/simple_maze.des\")\n",
    "solve_and_plt(env, heuristic=euclidean_distance, precision=\"base\", plt_width=(100, 270), plt_height=(500, 760))"
   ]
  },
  {
   "cell_type": "code",
   "execution_count": null,
   "metadata": {},
   "outputs": [],
   "source": [
    "env = gym.make(\"MiniHack-Navigation-Custom-v0\", observation_keys=(\"chars\", \"pixel\", \"colors\"), des_file = \"dat/simple_maze.des\")\n",
    "solve_and_plt(env, heuristic=chebyshev_distance, precision=\"base\", plt_width=(100, 270), plt_height=(500, 760))"
   ]
  },
  {
   "cell_type": "markdown",
   "metadata": {},
   "source": [
    "Initially, a simpler version of the problem was tackled. An A* algorithm was implemented that could find the optimal path in a map with trees."
   ]
  },
  {
   "cell_type": "code",
   "execution_count": null,
   "metadata": {},
   "outputs": [],
   "source": [
    "env = gym.make(\"MiniHack-Navigation-Custom-v0\", observation_keys=[\"chars\", \"pixel\", \"colors\"], des_file=\"dat/square_trees.des\")\n",
    "solve_and_plt(env, heuristic=chebyshev_distance, precision=\"base\", plt_width=(100, 270), plt_height=(500, 760))"
   ]
  },
  {
   "cell_type": "markdown",
   "metadata": {},
   "source": [
    "The algorithm also works on more intricate map configurations, that are not constrained to a square shape."
   ]
  },
  {
   "cell_type": "code",
   "execution_count": null,
   "metadata": {},
   "outputs": [],
   "source": [
    "env = gym.make(\"MiniHack-Navigation-Custom-v0\", observation_keys=[\"chars\", \"pixel\", \"colors\"], des_file=\"dat/maze_trees.des\")\n",
    "solve_and_plt(env, heuristic=chebyshev_distance, precision=\"base\", plt_width=(100, 270), plt_height=(500, 760))"
   ]
  },
  {
   "cell_type": "markdown",
   "metadata": {},
   "source": [
    "The problem was made more complex with the introduction of clouds and a \"grid bug,\" a relatively weak monster in Nethack. This creature, matching the player's speed, is unable to ever catch up with the agent, adding a strategic element to the scenario. \n",
    "\n",
    "To effectively face this issue, a dynamic A* algorithm was implemented. This  solution recalculates the path based on whether the monster is visible or not. In scenarios where the monster is visible, the agent incurs no penalties traversing through clouded areas. Instead, in instances where the monster remains hidden, traversing through clouded regions carries a risk, as these areas could be secret hiding places for the lurking monster.\n"
   ]
  },
  {
   "cell_type": "code",
   "execution_count": null,
   "metadata": {},
   "outputs": [],
   "source": [
    "env = gym.make(\"MiniHack-Navigation-Custom-v0\", observation_keys=[\"chars\", \"pixel\", \"colors\"], des_file=\"dat/grid_bug.des\")\n",
    "solve_and_plt(env, heuristic=chebyshev_distance, precision=\"base\", plt_width=(100, 270), plt_height=(500, 760))"
   ]
  },
  {
   "cell_type": "markdown",
   "metadata": {},
   "source": [
    "The final stage of the fully observable problem involved addressing the comprehensive challenge at hand. A diverse array of monsters was integrated into the scenario. \n",
    "\n",
    "At first, we just applied the strategy used so far to get to the target, but we soon found out that we may have needed some more sofistication."
   ]
  },
  {
   "cell_type": "code",
   "execution_count": null,
   "metadata": {},
   "outputs": [],
   "source": [
    "env = gym.make(\"MiniHack-HideNSeek-Mapped-v0\", observation_keys=[\"chars\", \"pixel\", \"colors\"])\n",
    "solve_and_plt(env, heuristic=chebyshev_distance, precision=\"base\", plt_width=(100, 270), plt_height=(500, 760))"
   ]
  },
  {
   "cell_type": "markdown",
   "metadata": {},
   "source": [
    "The idea behind the improved strategy roots in two simple concepts:\n",
    "- when the agent has the chance to see the monster in the map, it should keep itself further from it\n",
    "- when the agent does not have a chance to get to know where the monster may be hiding itself, the agent must stay further from clouds as much as it might, for this very reason"
   ]
  },
  {
   "cell_type": "code",
   "execution_count": null,
   "metadata": {},
   "outputs": [],
   "source": [
    "env = gym.make(\"MiniHack-HideNSeek-Mapped-v0\", observation_keys=[\"chars\", \"pixel\", \"colors\"])\n",
    "solve_and_plt(env, heuristic=chebyshev_distance, precision=\"advanced\", plt_width=(100, 270), plt_height=(500, 760), dynamic=True)"
   ]
  },
  {
   "cell_type": "markdown",
   "metadata": {},
   "source": [
    "Let us give a brief discussion on the reasons behind the procedure rightfully working.\n",
    "\n",
    "First, we will introduce the formulation of the Chebyshev Distance, i.e:\n",
    "$$\\text{let} \\quad P = (p_1, p_2), \\quad \\text{and} \\quad Q = (q_1, q_2)$$\n",
    "$$d(P, Q) = \\max(|p_1 - q_1|, |p_2 - q_2|)$$\n",
    "\n",
    "The idea, as expressed before in more abstract terms, is to keep the agent as far as possible from the monster whenever it is visible from the map, this can be obtain by setting the $g$ function of the cost function $f$ in such a way that it weights cells closer to the monster more than cells further from it. \n",
    "\n",
    "Let us first define the cost function $f$:\n",
    "$$f(P, T) := g(P, D) + h(P, T),$$\n",
    "$$\\text{where P is the neighbour position},$$\n",
    "$$\\text{D is the danger position},$$\n",
    "$$\\text{and T is the target position}$$\n",
    "\n",
    "Note: the definition of the function $g$ actually needs to be taken in a more flexible way since, as we will see later, it will be having parameters of different types throughout all the instances of the problem (we will need $D$ to be considered as a set, and $g$ will have to be a function of a particular definition).\n",
    "\n",
    "Anyway, what we mentioned above can be obtained by a simple manipulation of the function we used for the calculation of the distance between points in the plane, i.e. by simply calculating the reciprocal of the Chebyshev Distance between the position and the monsters itself. This gives us a function which is \"rotation aware\" (meaning it assigns the same value to positions falling in the radius of a circle (really squares to be precise, since the Chebyshev Distance actually is the $L_{\\infty}$)).\n",
    "\n",
    "$$\\text{let} \\quad \\text{M be the monster's position},$$\n",
    "$$\\text{and} \\quad \\psi(P, M) := \n",
    "\\begin{cases} \n",
    "    \\frac{1}{d(P, M)}  & \\text{if } d(P, M) > 0, \\\\\n",
    "    maxcost & \\text{if } d(P, M) = 0\n",
    "\\end{cases}, \\quad \\text{with} \\quad maxcost = 10^{5}$$\n",
    "\n",
    "$$\\text{and} \\quad h(P, T) := d(P, T)$$\n",
    "\n",
    "We can obtain the cost function $f$ designed as described by setting $g = \\psi$.\n",
    "\n",
    "Notice that with $g$ we are comparing our neighbouring position $P$ with the monster position $M$, while with $h$ we are computing the exact distance (thanks to the Chebyshev Distance) between the neighbouring position $P$ and the target $T$.\n",
    "\n",
    "Also, to be more precise, we implemented the above function with a slight variation, i.e. we split two cases from the one of the agent knowing the monster's position: one where $P$ is a cloud, and one where $P$ is not a cloud. As one might think, it can be advantageous to exploit clouds in order to run off the monster, but clouds have to be weighted in such a way that they must not incourage the agent to go against the monster in order to get in a cloud. To achieve this goal we could have implemented more sophisticated variations, but rather we chose a simple, yet effective approach (at least empirically), based on a very simple manipulation of the above function: \n",
    "\n",
    "$$\\psi(P, M) := \n",
    "\\begin{cases} \n",
    "    \\frac{1}{d(P, M)}  & \\text{if } d(P, M) > 0 \\quad \\text{and } P \\notin Clouds, \\\\\n",
    "    \\left \\lfloor \\frac{1}{d(P, M)} \\right \\rfloor  & \\text{if } d(P, M) > 0 \\quad \\text{and } P \\in Clouds, \\\\\n",
    "    maxcost & \\text{if } d(P, M) = 0\n",
    "\\end{cases}, \\quad \\text{with} \\quad maxcost = 10^{5}$$\n",
    "\n",
    "The intuition behind this, is that the floor gives a very slight advantage to the cloud position in the cost function, precisely it will have an advantage $< 1$. This can be enough given that values won't be too big (by the size of the map), and hence we won't need large adjustments.\n",
    "\n",
    "Now, let us make an observation about what we've seen so far: this only applies to cases where the agent does not know where the monster is located. In the other half of the cases, we need to make some more considerations: the agent must take care to get near clouds, since they really are ideal places for monsters to be hidden into. So, in order to \"take care\", we figured out a function to achieve this very reult.\n",
    "\n",
    "$$\\varphi(P, Clouds) := \\sum_{C \\in Clouds} \\frac{1}{d(P, C)}$$\n",
    "\n",
    "This function $\\varphi$ can be interpreted as the \"danger function\", meaning that it gives a value to represent how much \"dangerous\" a position really is, basing the computation on the distance the position finds itself against each cloud in the map. To do so, we again exploit the reciprocal of the Chebyshev Distance, but this time we sum the amount of \"danger\" that each cloud project to the specific cell.\n",
    "\n",
    "As before, we can use the original formulation, $f(P, T) := g(P, D) + h(P, T)$, to express the cost function, but this time $g = \\varphi$.\n",
    "\n",
    "$$f(P, T) := \\sum_{C \\in Clouds} \\frac{1}{d(P, C)} + h(P, Q)$$\n",
    "\n",
    "So, we can exploit the original formulation of $f$ to approach both the case where the monster is visible, and that of it being not in light, just by substituting $g$ with the function that suits the case.\n",
    "\n",
    "Another important observation is that, in the case in which the agent does not know the monster's position, $g$ does not grow linearly as $h$ does (since it is of the form $\\frac{1}{n}$ for the most part), hence this brings the conclusion that $h$ will have a bigger impact on most cases (i.e. each case where $h(P, T) > g(P, M)$, or to put it into words, every time the distance from the target is larger than the reciprocal of the distance from the monster, basically in most occasions). When we consider the case of $g = \\varphi$, the reasoning actually changes a bit, since we are summing over the number of clouds in the map. In any case, this should not affect the algorithm in any particular way.\n",
    "\n",
    "So, to conclude the discussion, we may interpret all this machinery as a filtering function: the first filter applies to positions that share the same value of $h$ (since that is the most weighted value), and amongst them the agent chooses the one that is less dangerous to be percolated.\n",
    "\n",
    "A more involved analysis might be interesting to be carried on, but the choice to stop to this point is both of practical meaning and time constraints."
   ]
  },
  {
   "cell_type": "markdown",
   "metadata": {},
   "source": [
    "In any case, let us have a general discussion about the problem analysed. Since many of the monsters from the pool given by the MiniHack Environment, HideNSeek, are actually way too powerful to be played against with an empty inventory, we decided to only work on a small subset, one composed by only two monsters: Naga and the Giant. \n",
    "\n",
    "These two monsters appear to be pretty different from each other and this gives us a way to test the effectiveness of our approach on a level we'd like to.\n",
    "\n",
    "#TODO expand discussion on monsters"
   ]
  },
  {
   "cell_type": "code",
   "execution_count": null,
   "metadata": {},
   "outputs": [],
   "source": [
    "env = gym.make(\"MiniHack-Navigation-Custom-v0\", des_file=\"dat/fully_observable_N.des\", observation_keys=[\"chars\", \"pixel\", \"colors\"])\n",
    "solve_and_plt(env, heuristic=chebyshev_distance, precision=\"advanced\", plt_width=(100, 270), plt_height=(500, 760), dynamic=True)"
   ]
  },
  {
   "cell_type": "code",
   "execution_count": null,
   "metadata": {},
   "outputs": [],
   "source": [
    "win, loss, monsters_win, monsters_loss = evaluate_performance(\"MiniHack-Navigation-Custom-v0\", dynamic_path_finding, des_file=\"dat/fully_observable_NH.des\", evaluation_steps=500)\n",
    "\n",
    "print(f\"wins: {win}\")\n",
    "print(f\"losses: {loss}\")\n",
    "print(f\"beaten monsters: {monsters_win}\")\n",
    "print(f\"monster that got us beaten: {monsters_loss}\")"
   ]
  },
  {
   "cell_type": "markdown",
   "metadata": {},
   "source": [
    "Let's have a look at the performance over Naga and the Giant alone"
   ]
  },
  {
   "cell_type": "code",
   "execution_count": null,
   "metadata": {},
   "outputs": [],
   "source": [
    "# NAGA\n",
    "win, loss, monsters_win, monsters_loss = evaluate_performance(\"MiniHack-Navigation-Custom-v0\", dynamic_path_finding, des_file=\"dat/fully_observable_N.des\", evaluation_steps=500)\n",
    "\n",
    "print(f\"wins: {win}\")\n",
    "print(f\"losses: {loss}\")\n",
    "print(f\"beaten monsters: {monsters_win}\")\n",
    "print(f\"monster that got us beaten: {monsters_loss}\")"
   ]
  },
  {
   "cell_type": "code",
   "execution_count": null,
   "metadata": {},
   "outputs": [],
   "source": [
    "# GIANT\n",
    "win, loss, monsters_win, monsters_loss = evaluate_performance(\"MiniHack-Navigation-Custom-v0\", dynamic_path_finding, des_file=\"dat/fully_observable_H.des\", evaluation_steps=500)\n",
    "\n",
    "print(f\"wins: {win}\")\n",
    "print(f\"losses: {loss}\")\n",
    "print(f\"beaten monsters: {monsters_win}\")\n",
    "print(f\"monster that got us beaten: {monsters_loss}\")"
   ]
  },
  {
   "cell_type": "markdown",
   "metadata": {},
   "source": [
    "And also let's have a look at how the algoritmh performs on the entire pool (all the monsters from HideNSeek)"
   ]
  },
  {
   "cell_type": "code",
   "execution_count": null,
   "metadata": {},
   "outputs": [],
   "source": [
    "win, loss, monsters_win, monsters_loss = evaluate_performance(\"MiniHack-HideNSeek-Mapped-v0\", dynamic_path_finding, evaluation_steps=500)\n",
    "\n",
    "print(f\"wins: {win}\")\n",
    "print(f\"losses: {loss}\")\n",
    "print(f\"beaten monsters: {monsters_win}\")\n",
    "print(f\"monster that got us beaten: {monsters_loss}\")"
   ]
  },
  {
   "cell_type": "markdown",
   "metadata": {},
   "source": [
    "#TODO statistics about monsters in the pool versions"
   ]
  },
  {
   "cell_type": "code",
   "execution_count": null,
   "metadata": {},
   "outputs": [],
   "source": [
    "ml = [x for x in monsters_loss if x != None]\n",
    "np.unique(ml, return_counts=True)"
   ]
  },
  {
   "cell_type": "markdown",
   "metadata": {},
   "source": [
    "# TEST ON BLEND FEATURES\n",
    "Nei test di seguito il numero messimo di step per ogni episodio è 100, raggiunto quel numero di steps, l'episodio terminerà con lo stato di **noAction**"
   ]
  },
  {
   "cell_type": "code",
   "execution_count": 5,
   "metadata": {},
   "outputs": [],
   "source": [
    "def solve_and_plt(env: gym.Env, heuristic: callable, precision: str, plt_width: Tuple[int, int], plt_height: Tuple[int, int], dynamic: bool = False, suppress = False):\n",
    "    state = env.reset()\n",
    "    game_map = state[\"chars\"]\n",
    "    color_map = state[\"colors\"]\n",
    "    pixel_map = state[\"pixel\"]\n",
    "\n",
    "    start = get_player_location(game_map)\n",
    "    target = get_target_location(game_map)\n",
    "\n",
    "    if dynamic:\n",
    "        dpt_test(game_map, color_map, start, target, env, heuristic, precision=precision, graphics=True, pixel_map=pixel_map, suppress=suppress)\n",
    "    else:\n",
    "        path = a_star(game_map, color_map, start, target, heuristic, precision=precision)\n",
    "        actions = actions_from_path(start, path[1:])\n",
    "        render_actions(actions, env, pixel_map, plt_width, plt_height)"
   ]
  },
  {
   "cell_type": "markdown",
   "metadata": {
    "jp-MarkdownHeadingCollapsed": true
   },
   "source": [
    "## Test on Naga Blend"
   ]
  },
  {
   "cell_type": "code",
   "execution_count": 2,
   "metadata": {},
   "outputs": [
    {
     "name": "stdout",
     "output_type": "stream",
     "text": [
      "wins: 303\n",
      "losses: 197\n",
      "noActions: 0\n",
      "beaten monsters: ['N', 'N', 'N', 'N', 'N', 'N', 'N', 'N', 'N', None, 'N', 'N', None, 'N', 'N', 'N', 'N', 'N', 'N', 'N', 'N', 'N', 'N', 'N', None, 'N', 'N', 'N', 'N', 'N', 'N', 'N', None, 'N', 'N', None, 'N', 'N', 'N', 'N', None, 'N', 'N', 'N', 'N', 'N', None, 'N', 'N', 'N', 'N', 'N', 'N', 'N', 'N', 'N', 'N', 'N', 'N', 'N', 'N', 'N', None, 'N', None, 'N', 'N', 'N', 'N', 'N', 'N', 'N', None, None, 'N', 'N', 'N', 'N', 'N', 'N', 'N', 'N', 'N', 'N', None, 'N', 'N', 'N', 'N', 'N', 'N', 'N', 'N', 'N', 'N', 'N', 'N', 'N', 'N', 'N', 'N', 'N', 'N', 'N', 'N', None, 'N', 'N', 'N', None, 'N', 'N', 'N', 'N', None, 'N', 'N', 'N', None, 'N', 'N', 'N', 'N', 'N', 'N', 'N', 'N', 'N', 'N', 'N', 'N', 'N', 'N', 'N', 'N', 'N', 'N', 'N', 'N', 'N', 'N', 'N', 'N', 'N', 'N', 'N', 'N', 'N', 'N', None, None, 'N', 'N', 'N', 'N', 'N', None, None, None, 'N', 'N', 'N', 'N', 'N', 'N', 'N', 'N', 'N', 'N', 'N', 'N', 'N', 'N', 'N', 'N', None, 'N', 'N', 'N', 'N', 'N', 'N', 'N', 'N', 'N', 'N', 'N', 'N', None, 'N', 'N', None, 'N', 'N', 'N', 'N', 'N', None, 'N', 'N', 'N', 'N', 'N', 'N', 'N', 'N', 'N', 'N', 'N', 'N', 'N', 'N', 'N', 'N', 'N', 'N', 'N', 'N', 'N', 'N', 'N', 'N', 'N', 'N', None, 'N', 'N', 'N', 'N', 'N', 'N', 'N', 'N', 'N', None, 'N', 'N', 'N', 'N', 'N', 'N', 'N', None, None, 'N', 'N', 'N', 'N', 'N', 'N', 'N', 'N', 'N', 'N', 'N', 'N', 'N', 'N', None, 'N', 'N', 'N', None, None, None, 'N', 'N', 'N', None, 'N', 'N', None, 'N', 'N', None, 'N', 'N', 'N', 'N', 'N', 'N', 'N', 'N', 'N', 'N', 'N', 'N', 'N', 'N', 'N', 'N', 'N', 'N', 'N', None, 'N', 'N', None, 'N', 'N', 'N', None, 'N']\n",
      "monster that got us beaten: [None, None, 'N', None, 'N', None, 'N', 'N', 'N', 'N', 'N', 'N', None, 'N', 'N', 'N', 'N', 'N', 'N', 'N', None, None, None, 'N', None, None, None, 'N', None, 'N', 'N', 'N', 'N', 'N', None, None, None, None, 'N', 'N', None, None, None, 'N', 'N', None, 'N', 'N', 'N', 'N', None, None, None, None, 'N', None, None, None, 'N', None, None, 'N', 'N', 'N', None, 'N', 'N', 'N', 'N', 'N', 'N', 'N', 'N', 'N', 'N', 'N', 'N', 'N', 'N', None, 'N', 'N', None, 'N', 'N', 'N', 'N', 'N', 'N', None, None, None, 'N', 'N', 'N', None, 'N', None, 'N', 'N', 'N', 'N', 'N', 'N', 'N', 'N', 'N', 'N', 'N', 'N', 'N', 'N', 'N', 'N', 'N', 'N', 'N', 'N', 'N', 'N', None, 'N', 'N', 'N', 'N', 'N', 'N', 'N', None, 'N', 'N', 'N', None, 'N', None, None, 'N', 'N', 'N', 'N', 'N', 'N', 'N', 'N', None, 'N', 'N', None, 'N', 'N', 'N', 'N', None, 'N', 'N', 'N', None, None, None, None, 'N', 'N', 'N', 'N', None, 'N', 'N', 'N', 'N', None, 'N', 'N', 'N', 'N', 'N', None, None, 'N', 'N', 'N', 'N', None, 'N', 'N', 'N', 'N', None, 'N', 'N', 'N', 'N', None, 'N', 'N', 'N', 'N', 'N']\n",
      "winRate: 0.606\n"
     ]
    }
   ],
   "source": [
    "#NAGA\n",
    "win, loss,noAction, monsters_win, monsters_loss = evaluate_performance(\"MiniHack-Navigation-Custom-v0\", dpt_test, des_file=\"dat/fully_observable_N.des\", evaluation_steps=500, graphics=False)\n",
    "\n",
    "print(f\"wins: {win}\")\n",
    "print(f\"losses: {loss}\")\n",
    "print(f\"noActions: {noAction}\")\n",
    "print(f\"beaten monsters: {monsters_win}\")\n",
    "print(f\"monster that got us beaten: {monsters_loss}\")\n",
    "print(f\"winRate: {win/500}\")"
   ]
  },
  {
   "cell_type": "markdown",
   "metadata": {},
   "source": [
    "## Test on Giant blend\n"
   ]
  },
  {
   "cell_type": "markdown",
   "metadata": {},
   "source": [
    "### 1. A* until Giant discovered, then KB"
   ]
  },
  {
   "cell_type": "code",
   "execution_count": 3,
   "metadata": {},
   "outputs": [
    {
     "ename": "KeyboardInterrupt",
     "evalue": "",
     "output_type": "error",
     "traceback": [
      "\u001b[0;31m---------------------------------------------------------------------------\u001b[0m",
      "\u001b[0;31mKeyboardInterrupt\u001b[0m                         Traceback (most recent call last)",
      "Cell \u001b[0;32mIn[3], line 1\u001b[0m\n\u001b[0;32m----> 1\u001b[0m win, loss,noAction, monsters_win, monsters_loss \u001b[38;5;241m=\u001b[39m \u001b[43mevaluate_performance\u001b[49m\u001b[43m(\u001b[49m\u001b[38;5;124;43m\"\u001b[39;49m\u001b[38;5;124;43mMiniHack-Navigation-Custom-v0\u001b[39;49m\u001b[38;5;124;43m\"\u001b[39;49m\u001b[43m,\u001b[49m\u001b[43m \u001b[49m\u001b[43mdpt_test\u001b[49m\u001b[43m,\u001b[49m\u001b[43m \u001b[49m\u001b[43mdes_file\u001b[49m\u001b[38;5;241;43m=\u001b[39;49m\u001b[38;5;124;43m\"\u001b[39;49m\u001b[38;5;124;43mdat/fully_observable_H.des\u001b[39;49m\u001b[38;5;124;43m\"\u001b[39;49m\u001b[43m,\u001b[49m\u001b[43m \u001b[49m\u001b[43mevaluation_steps\u001b[49m\u001b[38;5;241;43m=\u001b[39;49m\u001b[38;5;241;43m500\u001b[39;49m\u001b[43m,\u001b[49m\u001b[43m \u001b[49m\u001b[43mgraphics\u001b[49m\u001b[38;5;241;43m=\u001b[39;49m\u001b[38;5;28;43;01mFalse\u001b[39;49;00m\u001b[43m)\u001b[49m\n\u001b[1;32m      3\u001b[0m \u001b[38;5;28mprint\u001b[39m(\u001b[38;5;124mf\u001b[39m\u001b[38;5;124m\"\u001b[39m\u001b[38;5;124mwins: \u001b[39m\u001b[38;5;132;01m{\u001b[39;00mwin\u001b[38;5;132;01m}\u001b[39;00m\u001b[38;5;124m\"\u001b[39m)\n\u001b[1;32m      4\u001b[0m \u001b[38;5;28mprint\u001b[39m(\u001b[38;5;124mf\u001b[39m\u001b[38;5;124m\"\u001b[39m\u001b[38;5;124mlosses: \u001b[39m\u001b[38;5;132;01m{\u001b[39;00mloss\u001b[38;5;132;01m}\u001b[39;00m\u001b[38;5;124m\"\u001b[39m)\n",
      "File \u001b[0;32m/mnt/c/Ubuntu/progetto/search.py:346\u001b[0m, in \u001b[0;36mevaluate_performance\u001b[0;34m(setting, function_to_evaluate, heuristic, des_file, evaluation_steps, graphics)\u001b[0m\n\u001b[1;32m    344\u001b[0m     env \u001b[38;5;241m=\u001b[39m gym\u001b[38;5;241m.\u001b[39mmake(setting, observation_keys\u001b[38;5;241m=\u001b[39m[\u001b[38;5;124m\"\u001b[39m\u001b[38;5;124mchars\u001b[39m\u001b[38;5;124m\"\u001b[39m, \u001b[38;5;124m\"\u001b[39m\u001b[38;5;124mcolors\u001b[39m\u001b[38;5;124m\"\u001b[39m])\n\u001b[1;32m    345\u001b[0m \u001b[38;5;28;01melse\u001b[39;00m: \n\u001b[0;32m--> 346\u001b[0m     env \u001b[38;5;241m=\u001b[39m \u001b[43mgym\u001b[49m\u001b[38;5;241;43m.\u001b[39;49m\u001b[43mmake\u001b[49m\u001b[43m(\u001b[49m\u001b[43msetting\u001b[49m\u001b[43m,\u001b[49m\u001b[43m \u001b[49m\u001b[43mdes_file\u001b[49m\u001b[38;5;241;43m=\u001b[39;49m\u001b[43mdes_file\u001b[49m\u001b[43m,\u001b[49m\u001b[43m \u001b[49m\u001b[43mobservation_keys\u001b[49m\u001b[38;5;241;43m=\u001b[39;49m\u001b[43m[\u001b[49m\u001b[38;5;124;43m\"\u001b[39;49m\u001b[38;5;124;43mchars\u001b[39;49m\u001b[38;5;124;43m\"\u001b[39;49m\u001b[43m,\u001b[49m\u001b[43m \u001b[49m\u001b[38;5;124;43m\"\u001b[39;49m\u001b[38;5;124;43mcolors\u001b[39;49m\u001b[38;5;124;43m\"\u001b[39;49m\u001b[43m,\u001b[49m\u001b[43m \u001b[49m\u001b[38;5;124;43m\"\u001b[39;49m\u001b[38;5;124;43mpixel\u001b[39;49m\u001b[38;5;124;43m\"\u001b[39;49m\u001b[43m]\u001b[49m\u001b[43m)\u001b[49m\n\u001b[1;32m    347\u001b[0m state \u001b[38;5;241m=\u001b[39m env\u001b[38;5;241m.\u001b[39mreset()\n\u001b[1;32m    348\u001b[0m game_map \u001b[38;5;241m=\u001b[39m state[\u001b[38;5;124m\"\u001b[39m\u001b[38;5;124mchars\u001b[39m\u001b[38;5;124m\"\u001b[39m]\n",
      "File \u001b[0;32m~/miniconda3/envs/py38/lib/python3.8/site-packages/gym/envs/registration.py:676\u001b[0m, in \u001b[0;36mmake\u001b[0;34m(id, **kwargs)\u001b[0m\n\u001b[1;32m    675\u001b[0m \u001b[38;5;28;01mdef\u001b[39;00m \u001b[38;5;21mmake\u001b[39m(\u001b[38;5;28mid\u001b[39m: \u001b[38;5;28mstr\u001b[39m, \u001b[38;5;241m*\u001b[39m\u001b[38;5;241m*\u001b[39mkwargs) \u001b[38;5;241m-\u001b[39m\u001b[38;5;241m>\u001b[39m \u001b[38;5;124m\"\u001b[39m\u001b[38;5;124mEnv\u001b[39m\u001b[38;5;124m\"\u001b[39m:\n\u001b[0;32m--> 676\u001b[0m     \u001b[38;5;28;01mreturn\u001b[39;00m \u001b[43mregistry\u001b[49m\u001b[38;5;241;43m.\u001b[39;49m\u001b[43mmake\u001b[49m\u001b[43m(\u001b[49m\u001b[38;5;28;43mid\u001b[39;49m\u001b[43m,\u001b[49m\u001b[43m \u001b[49m\u001b[38;5;241;43m*\u001b[39;49m\u001b[38;5;241;43m*\u001b[39;49m\u001b[43mkwargs\u001b[49m\u001b[43m)\u001b[49m\n",
      "File \u001b[0;32m~/miniconda3/envs/py38/lib/python3.8/site-packages/gym/envs/registration.py:520\u001b[0m, in \u001b[0;36mEnvRegistry.make\u001b[0;34m(self, path, **kwargs)\u001b[0m\n\u001b[1;32m    518\u001b[0m spec \u001b[38;5;241m=\u001b[39m \u001b[38;5;28mself\u001b[39m\u001b[38;5;241m.\u001b[39mspec(path)\n\u001b[1;32m    519\u001b[0m \u001b[38;5;66;03m# Construct the environment\u001b[39;00m\n\u001b[0;32m--> 520\u001b[0m \u001b[38;5;28;01mreturn\u001b[39;00m \u001b[43mspec\u001b[49m\u001b[38;5;241;43m.\u001b[39;49m\u001b[43mmake\u001b[49m\u001b[43m(\u001b[49m\u001b[38;5;241;43m*\u001b[39;49m\u001b[38;5;241;43m*\u001b[39;49m\u001b[43mkwargs\u001b[49m\u001b[43m)\u001b[49m\n",
      "File \u001b[0;32m~/miniconda3/envs/py38/lib/python3.8/site-packages/gym/envs/registration.py:140\u001b[0m, in \u001b[0;36mEnvSpec.make\u001b[0;34m(self, **kwargs)\u001b[0m\n\u001b[1;32m    138\u001b[0m \u001b[38;5;28;01melse\u001b[39;00m:\n\u001b[1;32m    139\u001b[0m     \u001b[38;5;28mcls\u001b[39m \u001b[38;5;241m=\u001b[39m load(\u001b[38;5;28mself\u001b[39m\u001b[38;5;241m.\u001b[39mentry_point)\n\u001b[0;32m--> 140\u001b[0m     env \u001b[38;5;241m=\u001b[39m \u001b[38;5;28;43mcls\u001b[39;49m\u001b[43m(\u001b[49m\u001b[38;5;241;43m*\u001b[39;49m\u001b[38;5;241;43m*\u001b[39;49m\u001b[43m_kwargs\u001b[49m\u001b[43m)\u001b[49m\n\u001b[1;32m    142\u001b[0m \u001b[38;5;66;03m# Make the environment aware of which spec it came from.\u001b[39;00m\n\u001b[1;32m    143\u001b[0m spec \u001b[38;5;241m=\u001b[39m copy\u001b[38;5;241m.\u001b[39mdeepcopy(\u001b[38;5;28mself\u001b[39m)\n",
      "File \u001b[0;32m~/miniconda3/envs/py38/lib/python3.8/site-packages/minihack/navigation.py:42\u001b[0m, in \u001b[0;36mMiniHackNavigation.__init__\u001b[0;34m(self, des_file, *args, **kwargs)\u001b[0m\n\u001b[1;32m     39\u001b[0m \u001b[38;5;66;03m# Default episode limit\u001b[39;00m\n\u001b[1;32m     40\u001b[0m kwargs[\u001b[38;5;124m\"\u001b[39m\u001b[38;5;124mmax_episode_steps\u001b[39m\u001b[38;5;124m\"\u001b[39m] \u001b[38;5;241m=\u001b[39m kwargs\u001b[38;5;241m.\u001b[39mpop(\u001b[38;5;124m\"\u001b[39m\u001b[38;5;124mmax_episode_steps\u001b[39m\u001b[38;5;124m\"\u001b[39m, \u001b[38;5;241m100\u001b[39m)\n\u001b[0;32m---> 42\u001b[0m \u001b[38;5;28;43msuper\u001b[39;49m\u001b[43m(\u001b[49m\u001b[43m)\u001b[49m\u001b[38;5;241;43m.\u001b[39;49m\u001b[38;5;21;43m__init__\u001b[39;49m\u001b[43m(\u001b[49m\u001b[38;5;241;43m*\u001b[39;49m\u001b[43margs\u001b[49m\u001b[43m,\u001b[49m\u001b[43m \u001b[49m\u001b[43mdes_file\u001b[49m\u001b[38;5;241;43m=\u001b[39;49m\u001b[43mdes_file\u001b[49m\u001b[43m,\u001b[49m\u001b[43m \u001b[49m\u001b[38;5;241;43m*\u001b[39;49m\u001b[38;5;241;43m*\u001b[39;49m\u001b[43mkwargs\u001b[49m\u001b[43m)\u001b[49m\n",
      "File \u001b[0;32m~/miniconda3/envs/py38/lib/python3.8/site-packages/minihack/base.py:305\u001b[0m, in \u001b[0;36mMiniHack.__init__\u001b[0;34m(self, des_file, reward_win, reward_lose, obs_crop_h, obs_crop_w, obs_crop_pad, reward_manager, use_wiki, autopickup, pet, observation_keys, seeds, include_see_actions, include_alignment_blstats, *args, **kwargs)\u001b[0m\n\u001b[1;32m    302\u001b[0m \u001b[38;5;28msuper\u001b[39m()\u001b[38;5;241m.\u001b[39m\u001b[38;5;21m__init__\u001b[39m(\u001b[38;5;241m*\u001b[39margs, \u001b[38;5;241m*\u001b[39m\u001b[38;5;241m*\u001b[39mkwargs)\n\u001b[1;32m    304\u001b[0m \u001b[38;5;66;03m# Patch the nhdat library by compling the given .des file\u001b[39;00m\n\u001b[0;32m--> 305\u001b[0m \u001b[38;5;28;43mself\u001b[39;49m\u001b[38;5;241;43m.\u001b[39;49m\u001b[43mupdate\u001b[49m\u001b[43m(\u001b[49m\u001b[43mdes_file\u001b[49m\u001b[43m)\u001b[49m\n\u001b[1;32m    307\u001b[0m \u001b[38;5;28mself\u001b[39m\u001b[38;5;241m.\u001b[39mobs_crop_h \u001b[38;5;241m=\u001b[39m obs_crop_h\n\u001b[1;32m    308\u001b[0m \u001b[38;5;28mself\u001b[39m\u001b[38;5;241m.\u001b[39mobs_crop_w \u001b[38;5;241m=\u001b[39m obs_crop_w\n",
      "File \u001b[0;32m~/miniconda3/envs/py38/lib/python3.8/site-packages/minihack/base.py:415\u001b[0m, in \u001b[0;36mMiniHack.update\u001b[0;34m(self, des_file)\u001b[0m\n\u001b[1;32m    413\u001b[0m \u001b[38;5;28;01mdef\u001b[39;00m \u001b[38;5;21mupdate\u001b[39m(\u001b[38;5;28mself\u001b[39m, des_file):\n\u001b[1;32m    414\u001b[0m \u001b[38;5;250m    \u001b[39m\u001b[38;5;124;03m\"\"\"Update the current environment by replacing its description file.\"\"\"\u001b[39;00m\n\u001b[0;32m--> 415\u001b[0m     \u001b[38;5;28;43mself\u001b[39;49m\u001b[38;5;241;43m.\u001b[39;49m\u001b[43m_patch_nhdat\u001b[49m\u001b[43m(\u001b[49m\u001b[43mdes_file\u001b[49m\u001b[43m)\u001b[49m\n",
      "File \u001b[0;32m~/miniconda3/envs/py38/lib/python3.8/site-packages/minihack/base.py:441\u001b[0m, in \u001b[0;36mMiniHack._patch_nhdat\u001b[0;34m(self, des_file)\u001b[0m\n\u001b[1;32m    434\u001b[0m     \u001b[38;5;28mprint\u001b[39m(\n\u001b[1;32m    435\u001b[0m         \u001b[38;5;124m\"\u001b[39m\u001b[38;5;132;01m{}\u001b[39;00m\u001b[38;5;124m file doesn\u001b[39m\u001b[38;5;124m'\u001b[39m\u001b[38;5;124mt exist. Please provide a path to a valid .des \u001b[39m\u001b[38;5;130;01m\\\u001b[39;00m\n\u001b[1;32m    436\u001b[0m \u001b[38;5;124m            file\u001b[39m\u001b[38;5;124m\"\u001b[39m\u001b[38;5;241m.\u001b[39mformat(\n\u001b[1;32m    437\u001b[0m             des_path\n\u001b[1;32m    438\u001b[0m         )\n\u001b[1;32m    439\u001b[0m     )\n\u001b[1;32m    440\u001b[0m \u001b[38;5;28;01mtry\u001b[39;00m:\n\u001b[0;32m--> 441\u001b[0m     _ \u001b[38;5;241m=\u001b[39m \u001b[43msubprocess\u001b[49m\u001b[38;5;241;43m.\u001b[39;49m\u001b[43mcall\u001b[49m\u001b[43m(\u001b[49m\n\u001b[1;32m    442\u001b[0m \u001b[43m        \u001b[49m\u001b[43m[\u001b[49m\n\u001b[1;32m    443\u001b[0m \u001b[43m            \u001b[49m\u001b[43mPATCH_SCRIPT\u001b[49m\u001b[43m,\u001b[49m\n\u001b[1;32m    444\u001b[0m \u001b[43m            \u001b[49m\u001b[38;5;28;43mself\u001b[39;49m\u001b[38;5;241;43m.\u001b[39;49m\u001b[43mnethack\u001b[49m\u001b[38;5;241;43m.\u001b[39;49m\u001b[43m_vardir\u001b[49m\u001b[43m,\u001b[49m\n\u001b[1;32m    445\u001b[0m \u001b[43m            \u001b[49m\u001b[43mHACKDIR\u001b[49m\u001b[43m,\u001b[49m\n\u001b[1;32m    446\u001b[0m \u001b[43m            \u001b[49m\u001b[43mLIB_DIR\u001b[49m\u001b[43m,\u001b[49m\n\u001b[1;32m    447\u001b[0m \u001b[43m            \u001b[49m\u001b[43mdes_path\u001b[49m\u001b[43m,\u001b[49m\n\u001b[1;32m    448\u001b[0m \u001b[43m        \u001b[49m\u001b[43m]\u001b[49m\n\u001b[1;32m    449\u001b[0m \u001b[43m    \u001b[49m\u001b[43m)\u001b[49m\n\u001b[1;32m    450\u001b[0m \u001b[38;5;28;01mexcept\u001b[39;00m subprocess\u001b[38;5;241m.\u001b[39mCalledProcessError \u001b[38;5;28;01mas\u001b[39;00m e:\n\u001b[1;32m    451\u001b[0m     \u001b[38;5;28;01mraise\u001b[39;00m \u001b[38;5;167;01mRuntimeError\u001b[39;00m(\u001b[38;5;124mf\u001b[39m\u001b[38;5;124m\"\u001b[39m\u001b[38;5;124mCouldn\u001b[39m\u001b[38;5;124m'\u001b[39m\u001b[38;5;124mt patch the nhdat file.\u001b[39m\u001b[38;5;130;01m\\n\u001b[39;00m\u001b[38;5;132;01m{\u001b[39;00me\u001b[38;5;132;01m}\u001b[39;00m\u001b[38;5;124m\"\u001b[39m)\n",
      "File \u001b[0;32m~/miniconda3/envs/py38/lib/python3.8/subprocess.py:342\u001b[0m, in \u001b[0;36mcall\u001b[0;34m(timeout, *popenargs, **kwargs)\u001b[0m\n\u001b[1;32m    340\u001b[0m \u001b[38;5;28;01mwith\u001b[39;00m Popen(\u001b[38;5;241m*\u001b[39mpopenargs, \u001b[38;5;241m*\u001b[39m\u001b[38;5;241m*\u001b[39mkwargs) \u001b[38;5;28;01mas\u001b[39;00m p:\n\u001b[1;32m    341\u001b[0m     \u001b[38;5;28;01mtry\u001b[39;00m:\n\u001b[0;32m--> 342\u001b[0m         \u001b[38;5;28;01mreturn\u001b[39;00m \u001b[43mp\u001b[49m\u001b[38;5;241;43m.\u001b[39;49m\u001b[43mwait\u001b[49m\u001b[43m(\u001b[49m\u001b[43mtimeout\u001b[49m\u001b[38;5;241;43m=\u001b[39;49m\u001b[43mtimeout\u001b[49m\u001b[43m)\u001b[49m\n\u001b[1;32m    343\u001b[0m     \u001b[38;5;28;01mexcept\u001b[39;00m:  \u001b[38;5;66;03m# Including KeyboardInterrupt, wait handled that.\u001b[39;00m\n\u001b[1;32m    344\u001b[0m         p\u001b[38;5;241m.\u001b[39mkill()\n",
      "File \u001b[0;32m~/miniconda3/envs/py38/lib/python3.8/subprocess.py:1083\u001b[0m, in \u001b[0;36mPopen.wait\u001b[0;34m(self, timeout)\u001b[0m\n\u001b[1;32m   1081\u001b[0m     endtime \u001b[38;5;241m=\u001b[39m _time() \u001b[38;5;241m+\u001b[39m timeout\n\u001b[1;32m   1082\u001b[0m \u001b[38;5;28;01mtry\u001b[39;00m:\n\u001b[0;32m-> 1083\u001b[0m     \u001b[38;5;28;01mreturn\u001b[39;00m \u001b[38;5;28;43mself\u001b[39;49m\u001b[38;5;241;43m.\u001b[39;49m\u001b[43m_wait\u001b[49m\u001b[43m(\u001b[49m\u001b[43mtimeout\u001b[49m\u001b[38;5;241;43m=\u001b[39;49m\u001b[43mtimeout\u001b[49m\u001b[43m)\u001b[49m\n\u001b[1;32m   1084\u001b[0m \u001b[38;5;28;01mexcept\u001b[39;00m \u001b[38;5;167;01mKeyboardInterrupt\u001b[39;00m:\n\u001b[1;32m   1085\u001b[0m     \u001b[38;5;66;03m# https://bugs.python.org/issue25942\u001b[39;00m\n\u001b[1;32m   1086\u001b[0m     \u001b[38;5;66;03m# The first keyboard interrupt waits briefly for the child to\u001b[39;00m\n\u001b[1;32m   1087\u001b[0m     \u001b[38;5;66;03m# exit under the common assumption that it also received the ^C\u001b[39;00m\n\u001b[1;32m   1088\u001b[0m     \u001b[38;5;66;03m# generated SIGINT and will exit rapidly.\u001b[39;00m\n\u001b[1;32m   1089\u001b[0m     \u001b[38;5;28;01mif\u001b[39;00m timeout \u001b[38;5;129;01mis\u001b[39;00m \u001b[38;5;129;01mnot\u001b[39;00m \u001b[38;5;28;01mNone\u001b[39;00m:\n",
      "File \u001b[0;32m~/miniconda3/envs/py38/lib/python3.8/subprocess.py:1822\u001b[0m, in \u001b[0;36mPopen._wait\u001b[0;34m(self, timeout)\u001b[0m\n\u001b[1;32m   1820\u001b[0m \u001b[38;5;28;01mif\u001b[39;00m \u001b[38;5;28mself\u001b[39m\u001b[38;5;241m.\u001b[39mreturncode \u001b[38;5;129;01mis\u001b[39;00m \u001b[38;5;129;01mnot\u001b[39;00m \u001b[38;5;28;01mNone\u001b[39;00m:\n\u001b[1;32m   1821\u001b[0m     \u001b[38;5;28;01mbreak\u001b[39;00m  \u001b[38;5;66;03m# Another thread waited.\u001b[39;00m\n\u001b[0;32m-> 1822\u001b[0m (pid, sts) \u001b[38;5;241m=\u001b[39m \u001b[38;5;28;43mself\u001b[39;49m\u001b[38;5;241;43m.\u001b[39;49m\u001b[43m_try_wait\u001b[49m\u001b[43m(\u001b[49m\u001b[38;5;241;43m0\u001b[39;49m\u001b[43m)\u001b[49m\n\u001b[1;32m   1823\u001b[0m \u001b[38;5;66;03m# Check the pid and loop as waitpid has been known to\u001b[39;00m\n\u001b[1;32m   1824\u001b[0m \u001b[38;5;66;03m# return 0 even without WNOHANG in odd situations.\u001b[39;00m\n\u001b[1;32m   1825\u001b[0m \u001b[38;5;66;03m# http://bugs.python.org/issue14396.\u001b[39;00m\n\u001b[1;32m   1826\u001b[0m \u001b[38;5;28;01mif\u001b[39;00m pid \u001b[38;5;241m==\u001b[39m \u001b[38;5;28mself\u001b[39m\u001b[38;5;241m.\u001b[39mpid:\n",
      "File \u001b[0;32m~/miniconda3/envs/py38/lib/python3.8/subprocess.py:1780\u001b[0m, in \u001b[0;36mPopen._try_wait\u001b[0;34m(self, wait_flags)\u001b[0m\n\u001b[1;32m   1778\u001b[0m \u001b[38;5;250m\u001b[39m\u001b[38;5;124;03m\"\"\"All callers to this function MUST hold self._waitpid_lock.\"\"\"\u001b[39;00m\n\u001b[1;32m   1779\u001b[0m \u001b[38;5;28;01mtry\u001b[39;00m:\n\u001b[0;32m-> 1780\u001b[0m     (pid, sts) \u001b[38;5;241m=\u001b[39m \u001b[43mos\u001b[49m\u001b[38;5;241;43m.\u001b[39;49m\u001b[43mwaitpid\u001b[49m\u001b[43m(\u001b[49m\u001b[38;5;28;43mself\u001b[39;49m\u001b[38;5;241;43m.\u001b[39;49m\u001b[43mpid\u001b[49m\u001b[43m,\u001b[49m\u001b[43m \u001b[49m\u001b[43mwait_flags\u001b[49m\u001b[43m)\u001b[49m\n\u001b[1;32m   1781\u001b[0m \u001b[38;5;28;01mexcept\u001b[39;00m \u001b[38;5;167;01mChildProcessError\u001b[39;00m:\n\u001b[1;32m   1782\u001b[0m     \u001b[38;5;66;03m# This happens if SIGCLD is set to be ignored or waiting\u001b[39;00m\n\u001b[1;32m   1783\u001b[0m     \u001b[38;5;66;03m# for child processes has otherwise been disabled for our\u001b[39;00m\n\u001b[1;32m   1784\u001b[0m     \u001b[38;5;66;03m# process.  This child is dead, we can't get the status.\u001b[39;00m\n\u001b[1;32m   1785\u001b[0m     pid \u001b[38;5;241m=\u001b[39m \u001b[38;5;28mself\u001b[39m\u001b[38;5;241m.\u001b[39mpid\n",
      "\u001b[0;31mKeyboardInterrupt\u001b[0m: "
     ]
    }
   ],
   "source": [
    "win, loss,noAction, monsters_win, monsters_loss = evaluate_performance(\"MiniHack-Navigation-Custom-v0\", dpt_test, des_file=\"dat/fully_observable_H.des\", evaluation_steps=500, graphics=False)\n",
    "\n",
    "print(f\"wins: {win}\")\n",
    "print(f\"losses: {loss}\")\n",
    "print(f\"noActions: {noAction}\")\n",
    "print(f\"beaten monsters: {monsters_win}\")\n",
    "print(f\"monster that got us beaten: {monsters_loss}\")\n",
    "print(f\"winRate: {win/500}\")"
   ]
  },
  {
   "cell_type": "markdown",
   "metadata": {},
   "source": [
    "### 2. A* firstKB only when near giant, when you are between giant and stairs -> A*"
   ]
  },
  {
   "cell_type": "code",
   "execution_count": 8,
   "metadata": {},
   "outputs": [
    {
     "name": "stdout",
     "output_type": "stream",
     "text": [
      "wins: 403\n",
      "losses: 96\n",
      "noActions: 1\n",
      "beaten monsters: [None, 'H', None, None, None, None, 'H', 'H', 'H', None, None, 'H', None, 'H', 'H', None, None, 'H', None, None, None, None, None, None, None, 'H', None, None, None, None, 'H', 'H', None, 'H', None, 'H', 'H', 'H', None, 'H', 'H', None, 'H', None, None, None, 'H', 'H', None, 'H', None, 'H', None, 'H', 'H', 'H', 'H', None, 'H', 'H', 'H', 'H', None, 'H', 'H', 'H', 'H', None, 'H', 'H', None, 'H', 'H', 'H', None, 'H', 'H', 'H', 'H', 'H', 'H', 'H', 'H', 'H', 'H', None, 'H', None, 'H', None, None, 'H', 'H', 'H', None, 'H', 'H', 'H', 'H', 'H', 'H', 'H', 'H', None, None, None, 'H', 'H', 'H', None, None, 'H', 'H', None, 'H', None, 'H', None, None, 'H', None, 'H', None, 'H', None, 'H', None, 'H', None, 'H', 'H', 'H', None, 'H', None, None, 'H', None, None, 'H', 'H', None, None, 'H', None, None, None, 'H', None, 'H', None, None, None, 'H', None, 'H', None, None, None, 'H', 'H', 'H', 'H', 'H', 'H', None, None, 'H', None, 'H', None, 'H', None, 'H', 'H', 'H', 'H', 'H', None, 'H', None, None, None, 'H', 'H', 'H', 'H', 'H', None, 'H', None, 'H', 'H', 'H', 'H', 'H', 'H', None, 'H', None, 'H', 'H', 'H', None, None, 'H', 'H', 'H', None, None, 'H', 'H', 'H', None, 'H', None, None, 'H', 'H', 'H', None, 'H', 'H', 'H', 'H', 'H', 'H', 'H', 'H', None, 'H', 'H', 'H', 'H', 'H', None, 'H', 'H', None, 'H', 'H', 'H', None, None, 'H', 'H', 'H', 'H', 'H', 'H', 'H', None, 'H', 'H', None, 'H', None, 'H', None, 'H', 'H', 'H', 'H', None, None, None, 'H', 'H', None, None, 'H', 'H', None, 'H', 'H', None, 'H', None, None, 'H', 'H', 'H', None, 'H', None, None, 'H', 'H', 'H', 'H', 'H', None, None, None, 'H', 'H', 'H', None, None, None, 'H', 'H', 'H', 'H', 'H', None, 'H', None, 'H', 'H', None, None, 'H', 'H', 'H', None, None, 'H', 'H', 'H', None, None, None, 'H', 'H', 'H', 'H', None, 'H', 'H', None, 'H', 'H', 'H', None, 'H', None, 'H', None, 'H', 'H', None, 'H', 'H', None, None, 'H', 'H', 'H', 'H', None, 'H', 'H', None, 'H', 'H', 'H', None, None, 'H', 'H', None, None, None, 'H', 'H', None, 'H', None, None, 'H', 'H', None, 'H', 'H', 'H', 'H', None, 'H', 'H', 'H', None, 'H', 'H', 'H', 'H', None, None, 'H', 'H', 'H', 'H', 'H', 'H', None, 'H', 'H', 'H', None, None, 'H', 'H', 'H']\n",
      "monster that got us beaten: ['H', 'H', 'H', 'H', 'H', 'H', 'H', 'H', None, 'H', None, 'H', 'H', None, 'H', 'H', 'H', 'H', None, 'H', 'H', None, 'H', 'H', 'H', 'H', 'H', 'H', None, 'H', None, 'H', None, None, 'H', 'H', 'H', 'H', None, 'H', 'H', None, 'H', 'H', 'H', 'H', None, 'H', 'H', 'H', 'H', 'H', 'H', 'H', 'H', 'H', 'H', 'H', 'H', 'H', 'H', 'H', 'H', 'H', 'H', 'H', None, None, 'H', None, 'H', 'H', 'H', 'H', 'H', 'H', 'H', 'H', 'H', None, 'H', 'H', None, None, 'H', 'H', 'H', 'H', 'H', 'H', 'H', 'H', 'H', 'H', 'H', 'H']\n",
      "winRate: 0.806\n"
     ]
    }
   ],
   "source": [
    "win, loss,noAction, monsters_win, monsters_loss = evaluate_performance(\"MiniHack-Navigation-Custom-v0\", dpt_testv2, des_file=\"dat/fully_observable_H.des\", evaluation_steps=500, graphics=False)\n",
    "\n",
    "print(f\"wins: {win}\")\n",
    "print(f\"losses: {loss}\")\n",
    "print(f\"noActions: {noAction}\")\n",
    "print(f\"beaten monsters: {monsters_win}\")\n",
    "print(f\"monster that got us beaten: {monsters_loss}\")\n",
    "print(f\"winRate: {win/500}\")"
   ]
  },
  {
   "cell_type": "code",
   "execution_count": null,
   "metadata": {},
   "outputs": [],
   "source": []
  },
  {
   "cell_type": "code",
   "execution_count": null,
   "metadata": {},
   "outputs": [],
   "source": []
  }
 ],
 "metadata": {
  "interpreter": {
   "hash": "3e13c485f7ab2489a53cf312ae0098865ad20bb5d5ebec8b0fad55aa8a342510"
  },
  "kernelspec": {
   "display_name": "Python 3 (ipykernel)",
   "language": "python",
   "name": "python3"
  },
  "language_info": {
   "codemirror_mode": {
    "name": "ipython",
    "version": 3
   },
   "file_extension": ".py",
   "mimetype": "text/x-python",
   "name": "python",
   "nbconvert_exporter": "python",
   "pygments_lexer": "ipython3",
   "version": "3.8.18"
  }
 },
 "nbformat": 4,
 "nbformat_minor": 4
}
